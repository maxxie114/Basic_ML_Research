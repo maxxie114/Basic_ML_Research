{
  "nbformat": 4,
  "nbformat_minor": 0,
  "metadata": {
    "colab": {
      "name": "honey_production.ipynb",
      "provenance": []
    },
    "kernelspec": {
      "name": "python3",
      "display_name": "Python 3"
    },
    "language_info": {
      "name": "python"
    }
  },
  "cells": [
    {
      "cell_type": "code",
      "metadata": {
        "id": "rK2Dwv2pQ3GA"
      },
      "source": [
        "# Codecademy Project to predict honey production using Linear Regression\n",
        "import pandas as pd\n",
        "import matplotlib.pyplot as plt\n",
        "import numpy as np\n",
        "from sklearn import linear_model\n"
      ],
      "execution_count": 3,
      "outputs": []
    },
    {
      "cell_type": "code",
      "metadata": {
        "id": "I_KQdLoSRDeo"
      },
      "source": [
        "# Load data\n",
        "df = pd.read_csv(\"honeyproduction.xls\")"
      ],
      "execution_count": 7,
      "outputs": []
    },
    {
      "cell_type": "code",
      "metadata": {
        "id": "Q0OTNAykRP0G"
      },
      "source": [
        "# Reshape Data\n",
        "prod_per_year = df.groupby(\"year\").totalprod.mean().reset_index()\n",
        "X = prod_per_year[\"year\"]\n",
        "X = X.values.reshape(-1,1)\n",
        "\n",
        "y = prod_per_year[\"totalprod\"]"
      ],
      "execution_count": 10,
      "outputs": []
    },
    {
      "cell_type": "code",
      "metadata": {
        "colab": {
          "base_uri": "https://localhost:8080/"
        },
        "id": "gCFEqAMuRnbY",
        "outputId": "ee283313-d5d9-4a67-deed-2f7f2dab8223"
      },
      "source": [
        "# LM\n",
        "regr = linear_model.LinearRegression()\n",
        "regr.fit(X, y)\n",
        "\n",
        "# Pred\n",
        "print(regr.coef_, regr.intercept_)\n",
        "y_predict = regr.predict(X)"
      ],
      "execution_count": 12,
      "outputs": [
        {
          "output_type": "stream",
          "text": [
            "[-88303.18915238] 181208083.10732976\n"
          ],
          "name": "stdout"
        }
      ]
    },
    {
      "cell_type": "code",
      "metadata": {
        "colab": {
          "base_uri": "https://localhost:8080/",
          "height": 444
        },
        "id": "TTS8ALlQRz2l",
        "outputId": "ed7fe706-fa9e-4e33-8ae8-433151e6d112"
      },
      "source": [
        "# Future\n",
        "nums = np.array(range(2013,2050))\n",
        "\n",
        "X_future = nums.reshape(-1, 1)\n",
        "future_predict = regr.predict(X_future)\n",
        "print(future_predict)\n",
        "\n",
        "plt.plot(X_future, future_predict, '-')\n",
        "# plt.scatter(X, y)\n",
        "plt.show()"
      ],
      "execution_count": 13,
      "outputs": [
        {
          "output_type": "stream",
          "text": [
            "[3453763.34358495 3365460.15443256 3277156.96528018 3188853.77612782\n",
            " 3100550.58697543 3012247.39782304 2923944.20867065 2835641.01951829\n",
            " 2747337.8303659  2659034.64121351 2570731.45206112 2482428.26290876\n",
            " 2394125.07375637 2305821.88460398 2217518.69545159 2129215.50629923\n",
            " 2040912.31714684 1952609.12799445 1864305.93884209 1776002.7496897\n",
            " 1687699.56053731 1599396.37138492 1511093.18223256 1422789.99308017\n",
            " 1334486.80392778 1246183.61477539 1157880.42562303 1069577.23647064\n",
            "  981274.04731825  892970.85816586  804667.6690135   716364.47986111\n",
            "  628061.29070872  539758.10155633  451454.91240397  363151.72325158\n",
            "  274848.53409919]\n"
          ],
          "name": "stdout"
        },
        {
          "output_type": "display_data",
          "data": {
            "image/png": "[encoded data removed]",
            "text/plain": [
              "<Figure size 432x288 with 1 Axes>"
            ]
          },
          "metadata": {
            "tags": [],
            "needs_background": "light"
          }
        }
      ]
    }
  ]
}