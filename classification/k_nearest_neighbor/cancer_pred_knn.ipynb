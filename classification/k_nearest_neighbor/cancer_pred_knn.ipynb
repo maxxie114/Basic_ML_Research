{
  "nbformat": 4,
  "nbformat_minor": 0,
  "metadata": {
    "colab": {
      "name": "cancer_pred_knn.ipynb",
      "provenance": []
    },
    "kernelspec": {
      "name": "python3",
      "display_name": "Python 3.8.8 64-bit",
      "metadata": {
        "interpreter": {
          "hash": "60f1e5ccccc40e2323ba64a714e287042f360f5b63de7ccbab713315b71ab9e7"
        }
      }
    },
    "language_info": {
      "name": "python",
      "version": "3.8.8-final"
    }
  },
  "cells": [
    {
      "cell_type": "code",
      "metadata": {
        "id": "msbidnarzaPP"
      },
      "source": [
        "# This is a project that uses KNN to predict breast Cancer\n",
        "from sklearn.datasets import load_breast_cancer\n",
        "from sklearn.model_selection import train_test_split\n",
        "from sklearn.neighbors import KNeighborsClassifier\n",
        "import matplotlib.pyplot as plt"
      ],
      "execution_count": 1,
      "outputs": []
    },
    {
      "cell_type": "code",
      "metadata": {
        "colab": {
          "base_uri": "https://localhost:8080/"
        },
        "id": "bx2JgeyPzfnF",
        "outputId": "72f6db95-a4d0-4e11-acbc-58dca81913ca"
      },
      "source": [
        "# Load Dataset\n",
        "breast_cancer_data = load_breast_cancer()\n",
        "\n",
        "# Inspect Dataset\n",
        "print(breast_cancer_data.data[0])\n",
        "print(breast_cancer_data.feature_names)\n",
        "print(breast_cancer_data.target)\n",
        "print(breast_cancer_data.target_names)"
      ],
      "execution_count": 2,
      "outputs": [
        {
          "output_type": "stream",
          "text": [
            "[1.799e+01 1.038e+01 1.228e+02 1.001e+03 1.184e-01 2.776e-01 3.001e-01\n",
            " 1.471e-01 2.419e-01 7.871e-02 1.095e+00 9.053e-01 8.589e+00 1.534e+02\n",
            " 6.399e-03 4.904e-02 5.373e-02 1.587e-02 3.003e-02 6.193e-03 2.538e+01\n",
            " 1.733e+01 1.846e+02 2.019e+03 1.622e-01 6.656e-01 7.119e-01 2.654e-01\n",
            " 4.601e-01 1.189e-01]\n",
            "['mean radius' 'mean texture' 'mean perimeter' 'mean area'\n",
            " 'mean smoothness' 'mean compactness' 'mean concavity'\n",
            " 'mean concave points' 'mean symmetry' 'mean fractal dimension'\n",
            " 'radius error' 'texture error' 'perimeter error' 'area error'\n",
            " 'smoothness error' 'compactness error' 'concavity error'\n",
            " 'concave points error' 'symmetry error' 'fractal dimension error'\n",
            " 'worst radius' 'worst texture' 'worst perimeter' 'worst area'\n",
            " 'worst smoothness' 'worst compactness' 'worst concavity'\n",
            " 'worst concave points' 'worst symmetry' 'worst fractal dimension']\n",
            "[0 0 0 0 0 0 0 0 0 0 0 0 0 0 0 0 0 0 0 1 1 1 0 0 0 0 0 0 0 0 0 0 0 0 0 0 0\n",
            " 1 0 0 0 0 0 0 0 0 1 0 1 1 1 1 1 0 0 1 0 0 1 1 1 1 0 1 0 0 1 1 1 1 0 1 0 0\n",
            " 1 0 1 0 0 1 1 1 0 0 1 0 0 0 1 1 1 0 1 1 0 0 1 1 1 0 0 1 1 1 1 0 1 1 0 1 1\n",
            " 1 1 1 1 1 1 0 0 0 1 0 0 1 1 1 0 0 1 0 1 0 0 1 0 0 1 1 0 1 1 0 1 1 1 1 0 1\n",
            " 1 1 1 1 1 1 1 1 0 1 1 1 1 0 0 1 0 1 1 0 0 1 1 0 0 1 1 1 1 0 1 1 0 0 0 1 0\n",
            " 1 0 1 1 1 0 1 1 0 0 1 0 0 0 0 1 0 0 0 1 0 1 0 1 1 0 1 0 0 0 0 1 1 0 0 1 1\n",
            " 1 0 1 1 1 1 1 0 0 1 1 0 1 1 0 0 1 0 1 1 1 1 0 1 1 1 1 1 0 1 0 0 0 0 0 0 0\n",
            " 0 0 0 0 0 0 0 1 1 1 1 1 1 0 1 0 1 1 0 1 1 0 1 0 0 1 1 1 1 1 1 1 1 1 1 1 1\n",
            " 1 0 1 1 0 1 0 1 1 1 1 1 1 1 1 1 1 1 1 1 1 0 1 1 1 0 1 0 1 1 1 1 0 0 0 1 1\n",
            " 1 1 0 1 0 1 0 1 1 1 0 1 1 1 1 1 1 1 0 0 0 1 1 1 1 1 1 1 1 1 1 1 0 0 1 0 0\n",
            " 0 1 0 0 1 1 1 1 1 0 1 1 1 1 1 0 1 1 1 0 1 1 0 0 1 1 1 1 1 1 0 1 1 1 1 1 1\n",
            " 1 0 1 1 1 1 1 0 1 1 0 1 1 1 1 1 1 1 1 1 1 1 1 0 1 0 0 1 0 1 1 1 1 1 0 1 1\n",
            " 0 1 0 1 1 0 1 0 1 1 1 1 1 1 1 1 0 0 1 1 1 1 1 1 0 1 1 1 1 1 1 1 1 1 1 0 1\n",
            " 1 1 1 1 1 1 0 1 0 1 1 0 1 1 1 1 1 0 0 1 0 1 0 1 1 1 1 1 0 1 1 0 1 0 1 0 0\n",
            " 1 1 1 0 1 1 1 1 1 1 1 1 1 1 1 0 1 0 0 1 1 1 1 1 1 1 1 1 1 1 1 1 1 1 1 1 1\n",
            " 1 1 1 1 1 1 1 0 0 0 0 0 0 1]\n",
            "['malignant' 'benign']\n"
          ],
          "name": "stdout"
        }
      ]
    },
    {
      "cell_type": "code",
      "metadata": {
        "colab": {
          "base_uri": "https://localhost:8080/"
        },
        "id": "XVGoIOm7zi5R",
        "outputId": "4961acce-9981-452a-cbe8-162b1dd5503d"
      },
      "source": [
        "# Spliting Dataset\n",
        "training_data, validation_data, training_labels, validation_labels = train_test_split(breast_cancer_data.data, \n",
        "                                                                                      breast_cancer_data.target, test_size=0.2, random_state=100)\n",
        "print(f\"{len(training_data)},{len(training_labels)},{len(validation_data)},{len(validation_labels)}\")"
      ],
      "execution_count": 3,
      "outputs": [
        {
          "output_type": "stream",
          "text": [
            "455,455,114,114\n"
          ],
          "name": "stdout"
        }
      ]
    },
    {
      "cell_type": "code",
      "metadata": {
        "colab": {
          "base_uri": "https://localhost:8080/"
        },
        "id": "glL2UrnQzpOW",
        "outputId": "69545c89-5baa-49e2-fcd0-622b67f667f6"
      },
      "source": [
        "# KNN training and prediction\n",
        "# Using a loop to find the best k\n",
        "accuracies = []\n",
        "for k in range(1,101):\n",
        "    classifier = KNeighborsClassifier(n_neighbors = k)\n",
        "    classifier.fit(training_data, training_labels)\n",
        "    # Score the model\n",
        "    score = classifier.score(validation_data, validation_labels)\n",
        "    print(f\"k={k}:{score}\")\n",
        "    accuracies.append(score)"
      ],
      "execution_count": 4,
      "outputs": [
        {
          "output_type": "stream",
          "text": [
            "k=1:0.9298245614035088\n",
            "k=2:0.9385964912280702\n",
            "k=3:0.9473684210526315\n",
            "k=4:0.9473684210526315\n",
            "k=5:0.9473684210526315\n",
            "k=6:0.9473684210526315\n",
            "k=7:0.9473684210526315\n",
            "k=8:0.9473684210526315\n",
            "k=9:0.956140350877193\n",
            "k=10:0.956140350877193\n",
            "k=11:0.956140350877193\n",
            "k=12:0.956140350877193\n",
            "k=13:0.956140350877193\n",
            "k=14:0.956140350877193\n",
            "k=15:0.956140350877193\n",
            "k=16:0.956140350877193\n",
            "k=17:0.956140350877193\n",
            "k=18:0.956140350877193\n",
            "k=19:0.956140350877193\n",
            "k=20:0.956140350877193\n",
            "k=21:0.956140350877193\n",
            "k=22:0.956140350877193\n",
            "k=23:0.9649122807017544\n",
            "k=24:0.9649122807017544\n",
            "k=25:0.956140350877193\n",
            "k=26:0.956140350877193\n",
            "k=27:0.956140350877193\n",
            "k=28:0.956140350877193\n",
            "k=29:0.9473684210526315\n",
            "k=30:0.9473684210526315\n",
            "k=31:0.9473684210526315\n",
            "k=32:0.9473684210526315\n",
            "k=33:0.9473684210526315\n",
            "k=34:0.9473684210526315\n",
            "k=35:0.9473684210526315\n",
            "k=36:0.9473684210526315\n",
            "k=37:0.956140350877193\n",
            "k=38:0.956140350877193\n",
            "k=39:0.956140350877193\n",
            "k=40:0.956140350877193\n",
            "k=41:0.956140350877193\n",
            "k=42:0.956140350877193\n",
            "k=43:0.956140350877193\n",
            "k=44:0.9473684210526315\n",
            "k=45:0.956140350877193\n",
            "k=46:0.9473684210526315\n",
            "k=47:0.956140350877193\n",
            "k=48:0.956140350877193\n",
            "k=49:0.956140350877193\n",
            "k=50:0.956140350877193\n",
            "k=51:0.9473684210526315\n",
            "k=52:0.9473684210526315\n",
            "k=53:0.9473684210526315\n",
            "k=54:0.956140350877193\n",
            "k=55:0.956140350877193\n",
            "k=56:0.9649122807017544\n",
            "k=57:0.9473684210526315\n",
            "k=58:0.9473684210526315\n",
            "k=59:0.9385964912280702\n",
            "k=60:0.9298245614035088\n",
            "k=61:0.9298245614035088\n",
            "k=62:0.9385964912280702\n",
            "k=63:0.9473684210526315\n",
            "k=64:0.9385964912280702\n",
            "k=65:0.9385964912280702\n",
            "k=66:0.9385964912280702\n",
            "k=67:0.9385964912280702\n",
            "k=68:0.9385964912280702\n",
            "k=69:0.9385964912280702\n",
            "k=70:0.9385964912280702\n",
            "k=71:0.9385964912280702\n",
            "k=72:0.9385964912280702\n",
            "k=73:0.9385964912280702\n",
            "k=74:0.9385964912280702\n",
            "k=75:0.9385964912280702\n",
            "k=76:0.9385964912280702\n",
            "k=77:0.9298245614035088\n",
            "k=78:0.9298245614035088\n",
            "k=79:0.9298245614035088\n",
            "k=80:0.9298245614035088\n",
            "k=81:0.9210526315789473\n",
            "k=82:0.9298245614035088\n",
            "k=83:0.9210526315789473\n",
            "k=84:0.9385964912280702\n",
            "k=85:0.9298245614035088\n",
            "k=86:0.9385964912280702\n",
            "k=87:0.9385964912280702\n",
            "k=88:0.9385964912280702\n",
            "k=89:0.9298245614035088\n",
            "k=90:0.9298245614035088\n",
            "k=91:0.9210526315789473\n",
            "k=92:0.9385964912280702\n",
            "k=93:0.9210526315789473\n",
            "k=94:0.9298245614035088\n",
            "k=95:0.9298245614035088\n",
            "k=96:0.9385964912280702\n",
            "k=97:0.9298245614035088\n",
            "k=98:0.9385964912280702\n",
            "k=99:0.9298245614035088\n",
            "k=100:0.9298245614035088\n"
          ],
          "name": "stdout"
        }
      ]
    },
    {
      "cell_type": "code",
      "metadata": {
        "colab": {
          "base_uri": "https://localhost:8080/",
          "height": 295
        },
        "id": "nkrvEGxxzuPA",
        "outputId": "cd62efdd-7f2b-403f-9918-b955411e1a95"
      },
      "source": [
        "# Map the k-accuracy graph\n",
        "k_list = list(range(1,101))\n",
        "plt.plot(k_list, accuracies)\n",
        "plt.xlabel(\"k\")\n",
        "plt.ylabel(\"Validation Accuracy\")\n",
        "plt.title(\"Breast Cancer Classifier Accuracy\")\n",
        "plt.show()"
      ],
      "execution_count": 5,
      "outputs": [
        {
          "output_type": "display_data",
          "data": {
            "image/png": "[encoded data removed]",
            "text/plain": [
              "<Figure size 432x288 with 1 Axes>"
            ]
          },
          "metadata": {
            "tags": [],
            "needs_background": "light"
          }
        }
      ]
    }
  ]
}