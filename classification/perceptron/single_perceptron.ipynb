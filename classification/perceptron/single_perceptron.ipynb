{
  "nbformat": 4,
  "nbformat_minor": 0,
  "metadata": {
    "colab": {
      "name": "single_perceptron.ipynb",
      "provenance": []
    },
    "kernelspec": {
      "name": "python3",
      "display_name": "Python 3"
    },
    "language_info": {
      "name": "python"
    }
  },
  "cells": [
    {
      "cell_type": "code",
      "metadata": {
        "id": "YW_sIvEND5Bh"
      },
      "source": [
        "# A single perceptron network that simulate an OR gate\n",
        "from sklearn.linear_model import Perceptron\n",
        "import matplotlib.pyplot as plt\n",
        "import numpy as np\n",
        "from itertools import product"
      ],
      "execution_count": 1,
      "outputs": []
    },
    {
      "cell_type": "code",
      "metadata": {
        "id": "wjCW4iK9EVdx"
      },
      "source": [
        "# Data set of different logic gates\n",
        "data = [[0,0],[0,1],[1,0],[1,1]]\n",
        "labels = [0,1,1,1]"
      ],
      "execution_count": 3,
      "outputs": []
    },
    {
      "cell_type": "code",
      "metadata": {
        "colab": {
          "base_uri": "https://localhost:8080/",
          "height": 265
        },
        "id": "Pl4mdIOYEZSc",
        "outputId": "c83cb821-d060-4d71-dfb0-fea6f0e24bc1"
      },
      "source": [
        "# Scatter Plot of Data\n",
        "x = [i[0] for i in data]\n",
        "y = [i[1] for i in data]\n",
        "c = [i for i in labels]\n",
        "plt.scatter(x,y,c=labels)\n",
        "plt.show()"
      ],
      "execution_count": 4,
      "outputs": [
        {
          "output_type": "display_data",
          "data": {
            "image/png": "[encoded data removed]",
            "text/plain": [
              "<Figure size 432x288 with 1 Axes>"
            ]
          },
          "metadata": {
            "tags": [],
            "needs_background": "light"
          }
        }
      ]
    },
    {
      "cell_type": "code",
      "metadata": {
        "colab": {
          "base_uri": "https://localhost:8080/"
        },
        "id": "vdA3xcktEhc6",
        "outputId": "b5aa150d-3c4f-4872-aae9-54dc3faf59ae"
      },
      "source": [
        "# ML Model\n",
        "classifier = Perceptron(max_iter=40)\n",
        "classifier.fit(data, labels)\n",
        "\n",
        "# Get score\n",
        "print(classifier.score(data, labels))\n",
        "\n",
        "# Decision Function\n",
        "print(classifier.decision_function([[0, 0], [1, 1], [0.5, 0.5]]))"
      ],
      "execution_count": 5,
      "outputs": [
        {
          "output_type": "stream",
          "text": [
            "1.0\n",
            "[-1.  3.  1.]\n"
          ],
          "name": "stdout"
        }
      ]
    },
    {
      "cell_type": "code",
      "metadata": {
        "id": "oGar1F7LEmCe"
      },
      "source": [
        "# Set Up Heat Map\n",
        "x_values = np.linspace(0,1,100)\n",
        "y_values = np.linspace(0,1,100)\n",
        "point_grid = list(product(x_values, y_values))\n",
        "distances = classifier.decision_function(point_grid)\n",
        "abs_distances = [abs(i) for i in distances]\n",
        "abs_distances_2d = np.reshape(abs_distances, (100,100))"
      ],
      "execution_count": 6,
      "outputs": []
    },
    {
      "cell_type": "code",
      "metadata": {
        "colab": {
          "base_uri": "https://localhost:8080/",
          "height": 269
        },
        "id": "IaM7BzCCEs9X",
        "outputId": "e8bb3a09-6635-4c92-8abc-41b546b94a63"
      },
      "source": [
        "# Draw Map\n",
        "heatmap = plt.pcolormesh(x_values, y_values, abs_distances_2d)\n",
        "plt.colorbar(heatmap)\n",
        "plt.show()"
      ],
      "execution_count": 9,
      "outputs": [
        {
          "output_type": "display_data",
          "data": {
            "image/png": "[encoded data removed]",
            "text/plain": [
              "<Figure size 432x288 with 2 Axes>"
            ]
          },
          "metadata": {
            "tags": [],
            "needs_background": "light"
          }
        }
      ]
    },
    {
      "cell_type": "code",
      "metadata": {
        "colab": {
          "base_uri": "https://localhost:8080/"
        },
        "id": "W9rrvOPaEyfa",
        "outputId": "8c16e27d-3e1e-4e1a-9b4e-d0e01b343347"
      },
      "source": [
        "# predict\n",
        "x_test = [[0,0],[1,1],[1,0],[1,0],[0,0]]\n",
        "y_test = [0,1,1,1,0]\n",
        "print(classifier.predict(x_test))\n",
        "print(classifier.score(x_test, y_test))"
      ],
      "execution_count": 10,
      "outputs": [
        {
          "output_type": "stream",
          "text": [
            "[0 1 1 1 0]\n",
            "1.0\n"
          ],
          "name": "stdout"
        }
      ]
    }
  ]
}