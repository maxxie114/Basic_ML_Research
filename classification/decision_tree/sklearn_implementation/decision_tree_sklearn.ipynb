{
  "nbformat": 4,
  "nbformat_minor": 0,
  "metadata": {
    "colab": {
      "name": "decision_tree_sklearn.ipynb",
      "provenance": []
    },
    "kernelspec": {
      "name": "python3",
      "display_name": "Python 3"
    },
    "language_info": {
      "name": "python"
    }
  },
  "cells": [
    {
      "cell_type": "markdown",
      "metadata": {
        "id": "9UaqeU4OQ7_a"
      },
      "source": [
        "**A decision tree for solving the flag training dataset provided by UCI**\n",
        "- https://archive.ics.uci.edu/ml/datasets/Flags"
      ]
    },
    {
      "cell_type": "code",
      "metadata": {
        "id": "AlTLlmd7PZw-"
      },
      "source": [
        "import pandas as pd\n",
        "from sklearn.model_selection import train_test_split\n",
        "from sklearn.tree import DecisionTreeClassifier\n",
        "import matplotlib.pyplot as plt"
      ],
      "execution_count": 1,
      "outputs": []
    },
    {
      "cell_type": "code",
      "metadata": {
        "colab": {
          "base_uri": "https://localhost:8080/"
        },
        "id": "Q9UTNb4mPgcI",
        "outputId": "d85a040f-fdd8-45c7-c2f8-8e4d5a1fe223"
      },
      "source": [
        "# Analyze the data\n",
        "flags = pd.read_csv(\"flags.csv\", header = 0)\n",
        "print(flags.head())\n",
        "print(flags.columns)"
      ],
      "execution_count": 2,
      "outputs": [
        {
          "output_type": "stream",
          "text": [
            "             Name  Landmass  Zone  Area  ...  Animate  Text  Topleft  Botright\n",
            "0     Afghanistan         5     1   648  ...        0     0    black     green\n",
            "1         Albania         3     1    29  ...        1     0      red       red\n",
            "2         Algeria         4     1  2388  ...        0     0    green     white\n",
            "3  American-Samoa         6     3     0  ...        1     0     blue       red\n",
            "4         Andorra         3     1     0  ...        0     0     blue       red\n",
            "\n",
            "[5 rows x 30 columns]\n",
            "Index(['Name', 'Landmass', 'Zone', 'Area', 'Population', 'Language',\n",
            "       'Religion', 'Bars', 'Stripes', 'Colors', 'Red', 'Green', 'Blue', 'Gold',\n",
            "       'White', 'Black', 'Orange', 'Mainhue', 'Circles', 'Crosses', 'Saltires',\n",
            "       'Quarters', 'Sunstars', 'Crescent', 'Triangle', 'Icon', 'Animate',\n",
            "       'Text', 'Topleft', 'Botright'],\n",
            "      dtype='object')\n"
          ],
          "name": "stdout"
        }
      ]
    },
    {
      "cell_type": "code",
      "metadata": {
        "colab": {
          "base_uri": "https://localhost:8080/"
        },
        "id": "NrXvYMJPQITg",
        "outputId": "eaefbfd4-1373-4d24-f420-6cac25626fed"
      },
      "source": [
        "# define label set\n",
        "labels = flags[[\"Landmass\"]]\n",
        "print(labels)\n",
        "\n",
        "# define features set\n",
        "data = flags[[\"Red\",\"Green\",\"Blue\",\"Gold\",\"White\",\"Black\",\"Orange\"]]"
      ],
      "execution_count": 3,
      "outputs": [
        {
          "output_type": "stream",
          "text": [
            "     Landmass\n",
            "0           5\n",
            "1           3\n",
            "2           4\n",
            "3           6\n",
            "4           3\n",
            "..        ...\n",
            "189         6\n",
            "190         3\n",
            "191         4\n",
            "192         4\n",
            "193         4\n",
            "\n",
            "[194 rows x 1 columns]\n"
          ],
          "name": "stdout"
        }
      ]
    },
    {
      "cell_type": "code",
      "metadata": {
        "colab": {
          "base_uri": "https://localhost:8080/"
        },
        "id": "MLnmUwjSQKqE",
        "outputId": "44654308-a07d-4e52-fbf4-c96715590c9c"
      },
      "source": [
        "# Train test split\n",
        "X_train, X_test, y_train, y_test = train_test_split(data, labels, random_state = 1)\n",
        "\n",
        "print(X_train, X_test, y_train, y_test)"
      ],
      "execution_count": 4,
      "outputs": [
        {
          "output_type": "stream",
          "text": [
            "     Red  Green  Blue  Gold  White  Black  Orange\n",
            "107    1      1     0     1      0      0       0\n",
            "42     1      0     1     0      1      0       0\n",
            "17     1      1     1     1      1      1       1\n",
            "5      1      0     0     1      0      1       0\n",
            "117    1      1     0     0      0      0       0\n",
            "..   ...    ...   ...   ...    ...    ...     ...\n",
            "133    1      0     1     0      1      0       0\n",
            "137    1      0     1     1      1      0       0\n",
            "72     0      0     1     0      1      0       0\n",
            "140    1      0     1     0      1      0       0\n",
            "37     1      0     0     1      0      0       0\n",
            "\n",
            "[145 rows x 7 columns]      Red  Green  Blue  Gold  White  Black  Orange\n",
            "44     0      1     0     1      1      0       0\n",
            "172    1      0     0     0      1      0       0\n",
            "163    1      1     0     1      1      0       0\n",
            "35     1      0     1     1      0      0       0\n",
            "136    1      0     0     0      1      0       0\n",
            "11     1      0     0     0      1      0       0\n",
            "123    1      0     1     0      1      0       0\n",
            "82     1      0     0     0      1      0       0\n",
            "175    1      0     0     0      1      0       0\n",
            "102    1      0     1     0      1      0       0\n",
            "174    1      0     0     0      1      0       0\n",
            "180    1      0     1     0      1      0       0\n",
            "29     1      1     0     0      1      0       0\n",
            "16     1      0     0     1      0      1       0\n",
            "143    1      1     0     1      0      1       0\n",
            "166    1      0     0     0      1      0       0\n",
            "28     1      0     1     0      1      0       0\n",
            "51     1      0     0     1      1      1       0\n",
            "31     1      0     0     0      1      0       0\n",
            "122    1      0     1     0      1      0       0\n",
            "47     1      1     1     0      1      0       0\n",
            "4      1      0     1     1      0      0       0\n",
            "98     1      1     1     0      1      0       0\n",
            "56     1      1     1     1      1      0       0\n",
            "78     1      1     1     1      1      0       1\n",
            "58     0      0     1     0      1      0       0\n",
            "132    0      1     0     0      1      0       0\n",
            "124    0      0     1     0      1      0       0\n",
            "53     1      1     1     0      1      0       0\n",
            "127    1      0     1     1      1      0       0\n",
            "67     1      0     0     1      1      0       0\n",
            "120    0      0     1     0      1      0       1\n",
            "59     1      0     1     0      1      0       0\n",
            "97     1      1     0     0      1      0       1\n",
            "187    1      1     1     1      1      1       1\n",
            "14     1      1     0     0      0      0       0\n",
            "40     1      1     0     1      0      0       0\n",
            "19     1      1     1     1      1      1       0\n",
            "110    0      1     0     1      0      0       0\n",
            "112    1      1     0     0      1      0       1\n",
            "114    1      0     0     0      1      0       0\n",
            "167    1      1     0     0      1      1       0\n",
            "69     1      0     0     0      1      0       0\n",
            "152    0      0     1     0      1      0       0\n",
            "33     1      1     1     1      1      0       1\n",
            "89     0      1     0     1      0      1       0\n",
            "154    1      0     1     0      1      1       0\n",
            "188    1      0     0     1      0      0       0\n",
            "105    1      0     1     1      1      0       0      Landmass\n",
            "107         4\n",
            "42          1\n",
            "17          1\n",
            "5           4\n",
            "117         4\n",
            "..        ...\n",
            "133         2\n",
            "137         6\n",
            "72          1\n",
            "140         1\n",
            "37          5\n",
            "\n",
            "[145 rows x 1 columns]      Landmass\n",
            "44          3\n",
            "172         6\n",
            "163         2\n",
            "35          4\n",
            "136         2\n",
            "11          3\n",
            "123         6\n",
            "82          6\n",
            "175         5\n",
            "102         3\n",
            "174         4\n",
            "180         3\n",
            "29          4\n",
            "16          3\n",
            "143         4\n",
            "166         3\n",
            "28          5\n",
            "51          4\n",
            "31          1\n",
            "122         1\n",
            "47          4\n",
            "4           3\n",
            "98          4\n",
            "56          2\n",
            "78          5\n",
            "58          3\n",
            "132         5\n",
            "124         1\n",
            "53          4\n",
            "127         6\n",
            "67          3\n",
            "120         5\n",
            "59          3\n",
            "97          5\n",
            "187         2\n",
            "14          5\n",
            "40          4\n",
            "19          1\n",
            "110         4\n",
            "112         1\n",
            "114         3\n",
            "167         5\n",
            "69          1\n",
            "152         4\n",
            "33          1\n",
            "89          1\n",
            "154         5\n",
            "188         5\n",
            "105         5\n"
          ],
          "name": "stdout"
        }
      ]
    },
    {
      "cell_type": "code",
      "metadata": {
        "colab": {
          "base_uri": "https://localhost:8080/"
        },
        "id": "mXLGM07RQPQR",
        "outputId": "9c44b17c-b453-42fc-a420-a987495513d2"
      },
      "source": [
        "# Building and training the model\n",
        "tree = DecisionTreeClassifier(random_state = 1)\n",
        "tree.fit(X_train, y_train)\n",
        "\n",
        "# Score model\n",
        "print(f\"model1 score: {tree.score(X_test, y_test)}\")"
      ],
      "execution_count": 5,
      "outputs": [
        {
          "output_type": "stream",
          "text": [
            "model1 score: 0.3469387755102041\n"
          ],
          "name": "stdout"
        }
      ]
    },
    {
      "cell_type": "code",
      "metadata": {
        "colab": {
          "base_uri": "https://localhost:8080/"
        },
        "id": "DZk4FQpZQSLC",
        "outputId": "59044614-36ff-47ad-848c-29cd368373a8"
      },
      "source": [
        "# Analyzing the cause of low accuracy\n",
        "scores = []\n",
        "for i in range(1,21):\n",
        "  tree2 = DecisionTreeClassifier(random_state = 1, max_depth = i)\n",
        "  tree2.fit(X_train, y_train)\n",
        "  score = tree2.score(X_test, y_test)\n",
        "  print(f\"model=model2, i={i}, score={score}\")\n",
        "  scores.append(score)"
      ],
      "execution_count": 6,
      "outputs": [
        {
          "output_type": "stream",
          "text": [
            "model=model2, i=1, score=0.3469387755102041\n",
            "model=model2, i=2, score=0.22448979591836735\n",
            "model=model2, i=3, score=0.3469387755102041\n",
            "model=model2, i=4, score=0.32653061224489793\n",
            "model=model2, i=5, score=0.3469387755102041\n",
            "model=model2, i=6, score=0.3469387755102041\n",
            "model=model2, i=7, score=0.3469387755102041\n",
            "model=model2, i=8, score=0.3469387755102041\n",
            "model=model2, i=9, score=0.3469387755102041\n",
            "model=model2, i=10, score=0.3469387755102041\n",
            "model=model2, i=11, score=0.3469387755102041\n",
            "model=model2, i=12, score=0.3469387755102041\n",
            "model=model2, i=13, score=0.3469387755102041\n",
            "model=model2, i=14, score=0.3469387755102041\n",
            "model=model2, i=15, score=0.3469387755102041\n",
            "model=model2, i=16, score=0.3469387755102041\n",
            "model=model2, i=17, score=0.3469387755102041\n",
            "model=model2, i=18, score=0.3469387755102041\n",
            "model=model2, i=19, score=0.3469387755102041\n",
            "model=model2, i=20, score=0.3469387755102041\n"
          ],
          "name": "stdout"
        }
      ]
    },
    {
      "cell_type": "code",
      "metadata": {
        "colab": {
          "base_uri": "https://localhost:8080/",
          "height": 295
        },
        "id": "pdiRpbJhQWir",
        "outputId": "2aeecee9-3763-4aff-f1c5-8446b6a23adc"
      },
      "source": [
        "# Graph model 2\n",
        "plt.plot(range(1,21), scores)\n",
        "plt.xlabel(\"Max Depth of Tree\")\n",
        "plt.ylabel(\"score of tree\")\n",
        "plt.title(\"Model 2 score graph\")\n",
        "plt.show()"
      ],
      "execution_count": 7,
      "outputs": [
        {
          "output_type": "display_data",
          "data": {
            "image/png": "[encoded data removed]",
            "text/plain": [
              "<Figure size 432x288 with 1 Axes>"
            ]
          },
          "metadata": {
            "tags": [],
            "needs_background": "light"
          }
        }
      ]
    },
    {
      "cell_type": "code",
      "metadata": {
        "colab": {
          "base_uri": "https://localhost:8080/"
        },
        "id": "7X6t4uyqQa7I",
        "outputId": "c088c646-a51d-4d98-e997-4dee4cfb66e6"
      },
      "source": [
        "# Improve the model with more data\n",
        "# Building new dataset\n",
        "data2 = flags[[\"Red\", \"Green\", \"Blue\", \"Gold\",\n",
        " \"White\", \"Black\", \"Orange\",\n",
        " \"Circles\",\n",
        "\"Crosses\",\"Saltires\",\"Quarters\",\"Sunstars\",\n",
        "\"Crescent\",\"Triangle\"]]\n",
        "\n",
        "labels2 = flags[[\"Landmass\"]]\n",
        "\n",
        "X_train2, X_test2, y_train2, y_test2 = train_test_split(data2, labels2, random_state = 1)\n",
        "\n",
        "scores2 = []\n",
        "for i in range(1,21):\n",
        "  tree3 = DecisionTreeClassifier(random_state = 1, max_depth = i)\n",
        "  tree3.fit(X_train2, y_train2)\n",
        "  score = tree3.score(X_test2, y_test2)\n",
        "  print(f\"model=model3, i={i}, score={score}\")\n",
        "  scores2.append(score)"
      ],
      "execution_count": 8,
      "outputs": [
        {
          "output_type": "stream",
          "text": [
            "model=model3, i=1, score=0.3469387755102041\n",
            "model=model3, i=2, score=0.3877551020408163\n",
            "model=model3, i=3, score=0.5102040816326531\n",
            "model=model3, i=4, score=0.5510204081632653\n",
            "model=model3, i=5, score=0.5510204081632653\n",
            "model=model3, i=6, score=0.5102040816326531\n",
            "model=model3, i=7, score=0.42857142857142855\n",
            "model=model3, i=8, score=0.4489795918367347\n",
            "model=model3, i=9, score=0.4489795918367347\n",
            "model=model3, i=10, score=0.4489795918367347\n",
            "model=model3, i=11, score=0.4489795918367347\n",
            "model=model3, i=12, score=0.4489795918367347\n",
            "model=model3, i=13, score=0.4489795918367347\n",
            "model=model3, i=14, score=0.4489795918367347\n",
            "model=model3, i=15, score=0.4489795918367347\n",
            "model=model3, i=16, score=0.4489795918367347\n",
            "model=model3, i=17, score=0.4489795918367347\n",
            "model=model3, i=18, score=0.4489795918367347\n",
            "model=model3, i=19, score=0.4489795918367347\n",
            "model=model3, i=20, score=0.4489795918367347\n"
          ],
          "name": "stdout"
        }
      ]
    },
    {
      "cell_type": "code",
      "metadata": {
        "colab": {
          "base_uri": "https://localhost:8080/",
          "height": 295
        },
        "id": "qaD-PDURQgN8",
        "outputId": "1c8753cf-47b3-4d72-bcc0-ccf4db9f0f7e"
      },
      "source": [
        "# Graph final data\n",
        "plt.plot(range(1,21), scores2)\n",
        "plt.xlabel(\"Max Depth of Tree\")\n",
        "plt.ylabel(\"score of tree\")\n",
        "plt.title(\"Model 3 graph\")\n",
        "plt.show()"
      ],
      "execution_count": 10,
      "outputs": [
        {
          "output_type": "display_data",
          "data": {
            "image/png": "[encoded data removed]",
            "text/plain": [
              "<Figure size 432x288 with 1 Axes>"
            ]
          },
          "metadata": {
            "tags": [],
            "needs_background": "light"
          }
        }
      ]
    }
  ]
}