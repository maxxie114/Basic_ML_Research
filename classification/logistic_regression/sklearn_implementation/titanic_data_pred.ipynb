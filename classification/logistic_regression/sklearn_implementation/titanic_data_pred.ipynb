{
  "nbformat": 4,
  "nbformat_minor": 0,
  "metadata": {
    "colab": {
      "name": "titanic_data_pred.ipynb",
      "provenance": []
    },
    "kernelspec": {
      "name": "python3",
      "display_name": "Python 3"
    },
    "language_info": {
      "name": "python"
    }
  },
  "cells": [
    {
      "cell_type": "code",
      "metadata": {
        "id": "X4OMxDShrDBS"
      },
      "source": [
        "import pandas as pd\n",
        "import numpy as np\n",
        "import matplotlib.pyplot as plt\n",
        "from sklearn.linear_model import LogisticRegression\n",
        "from sklearn.model_selection import train_test_split\n",
        "from sklearn.preprocessing import StandardScaler\n",
        "import pandas as pd"
      ],
      "execution_count": 1,
      "outputs": []
    },
    {
      "cell_type": "code",
      "metadata": {
        "colab": {
          "base_uri": "https://localhost:8080/"
        },
        "id": "UZ2drKJmr2Nx",
        "outputId": "97932c76-ede9-452d-b4aa-14336ed5ff45"
      },
      "source": [
        "# Load the passenger data\n",
        "passengers = pd.read_csv(\"passengers.csv\")\n",
        "\n",
        "print(passengers.head())"
      ],
      "execution_count": 9,
      "outputs": [
        {
          "output_type": "stream",
          "text": [
            "   PassengerId  Survived  Pclass  ...     Fare Cabin  Embarked\n",
            "0            1         0       3  ...   7.2500   NaN         S\n",
            "1            2         1       1  ...  71.2833   C85         C\n",
            "2            3         1       3  ...   7.9250   NaN         S\n",
            "3            4         1       1  ...  53.1000  C123         S\n",
            "4            5         0       3  ...   8.0500   NaN         S\n",
            "\n",
            "[5 rows x 12 columns]\n"
          ],
          "name": "stdout"
        }
      ]
    },
    {
      "cell_type": "code",
      "metadata": {
        "colab": {
          "base_uri": "https://localhost:8080/"
        },
        "id": "MI09529mr3KX",
        "outputId": "8e91fcf3-6cd2-4e6e-8260-e6cf185384ba"
      },
      "source": [
        "# Update sex column to numerical\n",
        "passengers['Sex'] = passengers['Sex'].map({'male':0,'female':1})\n",
        "\n",
        "# Fill the nan values in the age column\n",
        "passengers['Age'].fillna(value=np.mean(passengers[\"Age\"]),inplace=True)\n",
        "\n",
        "# Create a first class column\n",
        "passengers[\"FirstClass\"] = passengers[\"Pclass\"].apply(lambda x: 1 if x == 1 else 0)\n",
        "\n",
        "# Create a second class column\n",
        "passengers[\"SecondClass\"] = passengers[\"Pclass\"].apply(lambda x: 1 if x == 2 else 0)\n",
        "\n",
        "print(passengers[[\"Sex\",\"Age\",\"FirstClass\",\"SecondClass\"]])"
      ],
      "execution_count": 10,
      "outputs": [
        {
          "output_type": "stream",
          "text": [
            "     Sex        Age  FirstClass  SecondClass\n",
            "0      0  22.000000           0            0\n",
            "1      1  38.000000           1            0\n",
            "2      1  26.000000           0            0\n",
            "3      1  35.000000           1            0\n",
            "4      0  35.000000           0            0\n",
            "..   ...        ...         ...          ...\n",
            "886    0  27.000000           0            1\n",
            "887    1  19.000000           1            0\n",
            "888    1  29.699118           0            0\n",
            "889    0  26.000000           1            0\n",
            "890    0  32.000000           0            0\n",
            "\n",
            "[891 rows x 4 columns]\n"
          ],
          "name": "stdout"
        }
      ]
    },
    {
      "cell_type": "code",
      "metadata": {
        "colab": {
          "base_uri": "https://localhost:8080/"
        },
        "id": "FXK6hKS2scng",
        "outputId": "a4ce7e1e-9f30-49fe-a0f5-b2d708721caf"
      },
      "source": [
        "# Select the desired features\n",
        "features = passengers[[\"Sex\",\"Age\",\"FirstClass\",\"SecondClass\"]]\n",
        "survival = passengers[\"Survived\"]\n",
        "\n",
        "# Perform train, test, split\n",
        "X_train, X_test, y_train, y_test = train_test_split(features, survival, test_size=0.2, random_state=1234)\n",
        "\n",
        "print(X_train)\n",
        "print(X_test)\n",
        "print(y_train)\n",
        "print(X_test)"
      ],
      "execution_count": 12,
      "outputs": [
        {
          "output_type": "stream",
          "text": [
            "     Sex        Age  FirstClass  SecondClass\n",
            "125    0  12.000000           0            0\n",
            "305    0   0.920000           1            0\n",
            "631    0  51.000000           0            0\n",
            "643    0  29.699118           0            0\n",
            "808    0  39.000000           0            1\n",
            "..   ...        ...         ...          ...\n",
            "204    0  18.000000           0            0\n",
            "53     1  29.000000           0            1\n",
            "294    0  24.000000           0            0\n",
            "723    0  50.000000           0            1\n",
            "815    0  29.699118           1            0\n",
            "\n",
            "[712 rows x 4 columns]\n",
            "     Sex        Age  FirstClass  SecondClass\n",
            "523    1  44.000000           1            0\n",
            "778    0  29.699118           0            0\n",
            "760    0  29.699118           0            0\n",
            "496    1  54.000000           1            0\n",
            "583    0  36.000000           1            0\n",
            "..   ...        ...         ...          ...\n",
            "100    1  28.000000           0            0\n",
            "773    0  29.699118           0            0\n",
            "222    0  51.000000           0            0\n",
            "495    0  29.699118           0            0\n",
            "99     0  34.000000           0            1\n",
            "\n",
            "[179 rows x 4 columns]\n",
            "125    1\n",
            "305    1\n",
            "631    0\n",
            "643    1\n",
            "808    0\n",
            "      ..\n",
            "204    1\n",
            "53     1\n",
            "294    0\n",
            "723    0\n",
            "815    0\n",
            "Name: Survived, Length: 712, dtype: int64\n",
            "     Sex        Age  FirstClass  SecondClass\n",
            "523    1  44.000000           1            0\n",
            "778    0  29.699118           0            0\n",
            "760    0  29.699118           0            0\n",
            "496    1  54.000000           1            0\n",
            "583    0  36.000000           1            0\n",
            "..   ...        ...         ...          ...\n",
            "100    1  28.000000           0            0\n",
            "773    0  29.699118           0            0\n",
            "222    0  51.000000           0            0\n",
            "495    0  29.699118           0            0\n",
            "99     0  34.000000           0            1\n",
            "\n",
            "[179 rows x 4 columns]\n"
          ],
          "name": "stdout"
        }
      ]
    },
    {
      "cell_type": "code",
      "metadata": {
        "id": "CxAzMFp5sja3"
      },
      "source": [
        "# Scale the feature data so it has mean = 0 and standard deviation = 1\n",
        "scaler = StandardScaler()\n",
        "X_train_normalized = scaler.fit_transform(X_train)\n",
        "X_test_normalized = scaler.transform(X_test)"
      ],
      "execution_count": 13,
      "outputs": []
    },
    {
      "cell_type": "code",
      "metadata": {
        "colab": {
          "base_uri": "https://localhost:8080/"
        },
        "id": "xsXTpNElsmxl",
        "outputId": "0b422860-883f-4998-8ef7-084c7d445724"
      },
      "source": [
        "# Create and train the model\n",
        "model = LogisticRegression()\n",
        "model.fit(X_train_normalized, y_train)\n",
        "\n",
        "# Score the model on the train data\n",
        "score = model.score(X_train_normalized, y_train)\n",
        "print(score)\n",
        "\n",
        "# Score the model on the test data\n",
        "score2 = model.score(X_test_normalized, y_test)\n",
        "print(score2)"
      ],
      "execution_count": 15,
      "outputs": [
        {
          "output_type": "stream",
          "text": [
            "0.7893258426966292\n",
            "0.8268156424581006\n"
          ],
          "name": "stdout"
        }
      ]
    },
    {
      "cell_type": "code",
      "metadata": {
        "colab": {
          "base_uri": "https://localhost:8080/"
        },
        "id": "JlRQsWHesuUk",
        "outputId": "aa1ed14d-4c0d-4f25-b082-cb45bc4b4284"
      },
      "source": [
        "# Analyze the coefficients\n",
        "print(model.coef_)"
      ],
      "execution_count": 16,
      "outputs": [
        {
          "output_type": "stream",
          "text": [
            "[[ 1.18536811 -0.42041547  0.97001083  0.47131741]]\n"
          ],
          "name": "stdout"
        }
      ]
    },
    {
      "cell_type": "code",
      "metadata": {
        "colab": {
          "base_uri": "https://localhost:8080/"
        },
        "id": "IirCjB66syMH",
        "outputId": "bb5370ef-58e6-41b9-e15e-014783831ffb"
      },
      "source": [
        "# Sample passenger features for testing\n",
        "Jack = np.array([0.0,20.0,0.0,0.0])\n",
        "Rose = np.array([1.0,17.0,1.0,0.0])\n",
        "You = np.array([1.0,30.0,1.0,0.0])\n",
        "\n",
        "# Combine passenger arrays\n",
        "sample_passengers = np.array([Jack, Rose, You])\n",
        "\n",
        "# Scale the sample passenger features\n",
        "sample_passengers_norm = scaler.transform(sample_passengers)\n",
        "print(sample_passengers_norm)\n",
        "\n",
        "# Make survival predictions!\n",
        "result = model.predict(sample_passengers_norm)\n",
        "probabilities = model.predict_proba(sample_passengers_norm)\n",
        "print(result)\n",
        "print(probabilities)"
      ],
      "execution_count": 17,
      "outputs": [
        {
          "output_type": "stream",
          "text": [
            "[[-0.74926865 -0.71924494 -0.57951264 -0.49472744]\n",
            " [ 1.33463478 -0.94457879  1.72558791 -0.49472744]\n",
            " [ 1.33463478  0.0318679   1.72558791 -0.49472744]]\n",
            "[0 1 1]\n",
            "[[0.88457319 0.11542681]\n",
            " [0.05927683 0.94072317]\n",
            " [0.08675492 0.91324508]]\n"
          ],
          "name": "stdout"
        }
      ]
    }
  ]
}